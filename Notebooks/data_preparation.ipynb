{
 "cells": [
  {
   "cell_type": "markdown",
   "id": "047cac98",
   "metadata": {},
   "source": [
    "<div style=\"\n",
    "  text-align: center; \n",
    "  color: white; \n",
    "  background: linear-gradient(135deg, #2e8b57, #3cb371); \n",
    "  padding: 25px; \n",
    "  border-radius: 12px;\n",
    "  box-shadow: 0 4px 10px rgba(0,0,0,0.2);\n",
    "  max-width: 600px;\n",
    "  margin: 30px auto;\n",
    "\">\n",
    "  <h1 style=\"margin: 0; font-size: 2.2em;\">Waste Management Prediction</h1>\n",
    "  <p style=\"font-size: 18px; margin-top: 8px; opacity: 0.95;\">\n",
    "    Optimizing sustainability through data-driven insights\n",
    "  </p>\n",
    "</div>\n"
   ]
  },
  {
   "cell_type": "markdown",
   "id": "ca89e051",
   "metadata": {},
   "source": [
    "# 1. Problem Statement :\n",
    "> *The objective of this Hackathon is to develop a machine learning model that\n",
    "predicts the recycling rate (the target variable, “Recycling Rate (%)”) for a given set\n",
    "of city-specific waste management attributes, such as waste type, population\n",
    "density, and municipal efficiency. This is primarily a regression problem, where\n",
    "the goal is to minimize prediction error (e.g., Root Mean Squared Error, RMSE). The\n",
    "challenge leverages the Waste Management and Recycling in India dataset,\n",
    "enabling participants to explore data-driven insights that can optimize waste\n",
    "management systems, reduce environmental impact, and inform urban policymaking. Participants will analyze features like waste generation, cost of\n",
    "management, and landfill capacity to derive actionable solutions, simulating realworld decision-making in sustainable urban planning.*\n"
   ]
  },
  {
   "cell_type": "markdown",
   "id": "9089e74f",
   "metadata": {},
   "source": [
    "# 2. Data - Explanation :\n",
    "> *The Waste Management and Recycling in India dataset is a comprehensive\n",
    "collection of attributes related to waste generation, recycling, and disposal\n",
    "practices across various Indian cities. Sourced from simulated data based on realworld waste management trends in India, this dataset spans 2019–2023 and covers\n",
    "multiple waste types, including plastic, organic, electronic, construction, and\n",
    "hazardous waste. It is pivotal for developing predictive models that support\n",
    "sustainable waste management—a data-driven approach to optimize municipal\n",
    "systems, reduce landfill dependency, and enhance recycling efforts. Each row in the\n",
    "dataset represents a unique combination of city, waste type, and management\n",
    "attributes, paired with outcomes like recycling rates or disposal methods, making it\n",
    "an ideal resource for building and evaluating machine learning models*"
   ]
  },
  {
   "cell_type": "markdown",
   "id": "14716490",
   "metadata": {},
   "source": [
    "##  Dataset Overview\n",
    "\n",
    "- **Source**: Simulated data based on Indian municipal waste practices  \n",
    "- **Target**: Predict **Recycling Rate (%)** (regression)\n",
    "\n",
    "###  Features\n",
    "\n",
    "- `City/District`: Name of city (categorical)  \n",
    "- `Waste Type`: Type of waste (categorical)  \n",
    "- `Waste Generated (Tons/Day)`: Daily waste amount  \n",
    "- `Recycling Rate (%)`: % recycled (target)  \n",
    "- `Population Density`: People per km²  \n",
    "- `Municipal Efficiency Score`: 1–10 rating  \n",
    "- `Disposal Method`: Landfill, Recycling, etc. (classification target)  \n",
    "- `Cost of Waste Management`: ₹ per ton  \n",
    "- `Awareness Campaigns Count`: Campaigns per year  \n",
    "- `Landfill Name`: Site name  \n",
    "- `Landfill Location`: Latitude & Longitude  \n",
    "- `Landfill Capacity`: Max tons  \n",
    "- `Year`: 2019–2023\n",
    "\n",
    "###  Challenges\n",
    "\n",
    "- Encoding categorical features  \n",
    "- Handling class imbalance  \n",
    "- Feature engineering for time & location  \n",
    "- Managing missing/noisy data  \n",
    "- Combining mixed data types"
   ]
  },
  {
   "cell_type": "markdown",
   "id": "0a1dcc87",
   "metadata": {},
   "source": [
    "# Import Libraries"
   ]
  },
  {
   "cell_type": "code",
   "execution_count": 1,
   "id": "2edd12d0",
   "metadata": {},
   "outputs": [],
   "source": [
    "import pandas as pd\n",
    "import numpy as np\n",
    "\n",
    "import matplotlib.pyplot as plt\n",
    "import scipy.stats as stats\n",
    "\n",
    "import warnings\n",
    "warnings.filterwarnings(\"ignore\")"
   ]
  },
  {
   "cell_type": "markdown",
   "id": "26cd3553",
   "metadata": {},
   "source": [
    "# 3. Data_Preparation :\n",
    "\n",
    "> Data cleaning and preprocessing"
   ]
  },
  {
   "cell_type": "markdown",
   "id": "a1846ecd",
   "metadata": {},
   "source": [
    "## 3.1 Data_Ingestion"
   ]
  },
  {
   "cell_type": "code",
   "execution_count": null,
   "id": "71b72a03",
   "metadata": {},
   "outputs": [
    {
     "name": "stdout",
     "output_type": "stream",
     "text": [
      "  City/District    Waste Type  Waste Generated (Tons/Day)  Recycling Rate (%)  \\\n",
      "0        Mumbai       Plastic                        6610                  68   \n",
      "1        Mumbai       Organic                        1181                  56   \n",
      "2        Mumbai       E-Waste                        8162                  53   \n",
      "3        Mumbai  Construction                        8929                  56   \n",
      "4        Mumbai     Hazardous                        5032                  44   \n",
      "\n",
      "   Population Density (People/km²)  Municipal Efficiency Score (1-10)  \\\n",
      "0                            11191                                  9   \n",
      "1                            11191                                  5   \n",
      "2                            11191                                  8   \n",
      "3                            11191                                  5   \n",
      "4                            11191                                  7   \n",
      "\n",
      "  Disposal Method  Cost of Waste Management (₹/Ton)  \\\n",
      "0      Composting                              3056   \n",
      "1      Composting                              2778   \n",
      "2    Incineration                              3390   \n",
      "3        Landfill                              1498   \n",
      "4       Recycling                              2221   \n",
      "\n",
      "   Awareness Campaigns Count    Landfill Name Landfill Location (Lat, Long)  \\\n",
      "0                         14  Mumbai Landfill              22.4265, 77.4931   \n",
      "1                         12  Mumbai Landfill              22.4265, 77.4931   \n",
      "2                         13  Mumbai Landfill              22.4265, 77.4931   \n",
      "3                         14  Mumbai Landfill              22.4265, 77.4931   \n",
      "4                         16  Mumbai Landfill              22.4265, 77.4931   \n",
      "\n",
      "   Landfill Capacity (Tons)  Year  \n",
      "0                     45575  2019  \n",
      "1                     45575  2019  \n",
      "2                     45575  2019  \n",
      "3                     45575  2019  \n",
      "4                     45575  2019  \n"
     ]
    }
   ],
   "source": [
    "df = pd.read_csv(\"https://raw.githubusercontent.com/MasteriNeuron/datasets/refs/heads/main/Waste_Management_and_Recycling_India.csv\")\n",
    "df.to_csv(\"../data/raw/Waste_Management_and_Recycling_India.csv\", index=False)"
   ]
  },
  {
   "cell_type": "code",
   "execution_count": 6,
   "id": "e3d5f764",
   "metadata": {},
   "outputs": [
    {
     "data": {
      "application/vnd.microsoft.datawrangler.viewer.v0+json": {
       "columns": [
        {
         "name": "index",
         "rawType": "int64",
         "type": "integer"
        },
        {
         "name": "City/District",
         "rawType": "object",
         "type": "string"
        },
        {
         "name": "Waste Type",
         "rawType": "object",
         "type": "string"
        },
        {
         "name": "Waste Generated (Tons/Day)",
         "rawType": "int64",
         "type": "integer"
        },
        {
         "name": "Recycling Rate (%)",
         "rawType": "int64",
         "type": "integer"
        },
        {
         "name": "Population Density (People/km²)",
         "rawType": "int64",
         "type": "integer"
        },
        {
         "name": "Municipal Efficiency Score (1-10)",
         "rawType": "int64",
         "type": "integer"
        },
        {
         "name": "Disposal Method",
         "rawType": "object",
         "type": "string"
        },
        {
         "name": "Cost of Waste Management (₹/Ton)",
         "rawType": "int64",
         "type": "integer"
        },
        {
         "name": "Awareness Campaigns Count",
         "rawType": "int64",
         "type": "integer"
        },
        {
         "name": "Landfill Name",
         "rawType": "object",
         "type": "string"
        },
        {
         "name": "Landfill Location (Lat, Long)",
         "rawType": "object",
         "type": "string"
        },
        {
         "name": "Landfill Capacity (Tons)",
         "rawType": "int64",
         "type": "integer"
        },
        {
         "name": "Year",
         "rawType": "int64",
         "type": "integer"
        }
       ],
       "ref": "b7dc64ae-6d30-486e-ae9c-8e2894420d80",
       "rows": [
        [
         "0",
         "Mumbai",
         "Plastic",
         "6610",
         "68",
         "11191",
         "9",
         "Composting",
         "3056",
         "14",
         "Mumbai Landfill",
         "22.4265, 77.4931",
         "45575",
         "2019"
        ],
        [
         "1",
         "Mumbai",
         "Organic",
         "1181",
         "56",
         "11191",
         "5",
         "Composting",
         "2778",
         "12",
         "Mumbai Landfill",
         "22.4265, 77.4931",
         "45575",
         "2019"
        ],
        [
         "2",
         "Mumbai",
         "E-Waste",
         "8162",
         "53",
         "11191",
         "8",
         "Incineration",
         "3390",
         "13",
         "Mumbai Landfill",
         "22.4265, 77.4931",
         "45575",
         "2019"
        ],
        [
         "3",
         "Mumbai",
         "Construction",
         "8929",
         "56",
         "11191",
         "5",
         "Landfill",
         "1498",
         "14",
         "Mumbai Landfill",
         "22.4265, 77.4931",
         "45575",
         "2019"
        ],
        [
         "4",
         "Mumbai",
         "Hazardous",
         "5032",
         "44",
         "11191",
         "7",
         "Recycling",
         "2221",
         "16",
         "Mumbai Landfill",
         "22.4265, 77.4931",
         "45575",
         "2019"
        ]
       ],
       "shape": {
        "columns": 13,
        "rows": 5
       }
      },
      "text/html": [
       "<div>\n",
       "<style scoped>\n",
       "    .dataframe tbody tr th:only-of-type {\n",
       "        vertical-align: middle;\n",
       "    }\n",
       "\n",
       "    .dataframe tbody tr th {\n",
       "        vertical-align: top;\n",
       "    }\n",
       "\n",
       "    .dataframe thead th {\n",
       "        text-align: right;\n",
       "    }\n",
       "</style>\n",
       "<table border=\"1\" class=\"dataframe\">\n",
       "  <thead>\n",
       "    <tr style=\"text-align: right;\">\n",
       "      <th></th>\n",
       "      <th>City/District</th>\n",
       "      <th>Waste Type</th>\n",
       "      <th>Waste Generated (Tons/Day)</th>\n",
       "      <th>Recycling Rate (%)</th>\n",
       "      <th>Population Density (People/km²)</th>\n",
       "      <th>Municipal Efficiency Score (1-10)</th>\n",
       "      <th>Disposal Method</th>\n",
       "      <th>Cost of Waste Management (₹/Ton)</th>\n",
       "      <th>Awareness Campaigns Count</th>\n",
       "      <th>Landfill Name</th>\n",
       "      <th>Landfill Location (Lat, Long)</th>\n",
       "      <th>Landfill Capacity (Tons)</th>\n",
       "      <th>Year</th>\n",
       "    </tr>\n",
       "  </thead>\n",
       "  <tbody>\n",
       "    <tr>\n",
       "      <th>0</th>\n",
       "      <td>Mumbai</td>\n",
       "      <td>Plastic</td>\n",
       "      <td>6610</td>\n",
       "      <td>68</td>\n",
       "      <td>11191</td>\n",
       "      <td>9</td>\n",
       "      <td>Composting</td>\n",
       "      <td>3056</td>\n",
       "      <td>14</td>\n",
       "      <td>Mumbai Landfill</td>\n",
       "      <td>22.4265, 77.4931</td>\n",
       "      <td>45575</td>\n",
       "      <td>2019</td>\n",
       "    </tr>\n",
       "    <tr>\n",
       "      <th>1</th>\n",
       "      <td>Mumbai</td>\n",
       "      <td>Organic</td>\n",
       "      <td>1181</td>\n",
       "      <td>56</td>\n",
       "      <td>11191</td>\n",
       "      <td>5</td>\n",
       "      <td>Composting</td>\n",
       "      <td>2778</td>\n",
       "      <td>12</td>\n",
       "      <td>Mumbai Landfill</td>\n",
       "      <td>22.4265, 77.4931</td>\n",
       "      <td>45575</td>\n",
       "      <td>2019</td>\n",
       "    </tr>\n",
       "    <tr>\n",
       "      <th>2</th>\n",
       "      <td>Mumbai</td>\n",
       "      <td>E-Waste</td>\n",
       "      <td>8162</td>\n",
       "      <td>53</td>\n",
       "      <td>11191</td>\n",
       "      <td>8</td>\n",
       "      <td>Incineration</td>\n",
       "      <td>3390</td>\n",
       "      <td>13</td>\n",
       "      <td>Mumbai Landfill</td>\n",
       "      <td>22.4265, 77.4931</td>\n",
       "      <td>45575</td>\n",
       "      <td>2019</td>\n",
       "    </tr>\n",
       "    <tr>\n",
       "      <th>3</th>\n",
       "      <td>Mumbai</td>\n",
       "      <td>Construction</td>\n",
       "      <td>8929</td>\n",
       "      <td>56</td>\n",
       "      <td>11191</td>\n",
       "      <td>5</td>\n",
       "      <td>Landfill</td>\n",
       "      <td>1498</td>\n",
       "      <td>14</td>\n",
       "      <td>Mumbai Landfill</td>\n",
       "      <td>22.4265, 77.4931</td>\n",
       "      <td>45575</td>\n",
       "      <td>2019</td>\n",
       "    </tr>\n",
       "    <tr>\n",
       "      <th>4</th>\n",
       "      <td>Mumbai</td>\n",
       "      <td>Hazardous</td>\n",
       "      <td>5032</td>\n",
       "      <td>44</td>\n",
       "      <td>11191</td>\n",
       "      <td>7</td>\n",
       "      <td>Recycling</td>\n",
       "      <td>2221</td>\n",
       "      <td>16</td>\n",
       "      <td>Mumbai Landfill</td>\n",
       "      <td>22.4265, 77.4931</td>\n",
       "      <td>45575</td>\n",
       "      <td>2019</td>\n",
       "    </tr>\n",
       "  </tbody>\n",
       "</table>\n",
       "</div>"
      ],
      "text/plain": [
       "  City/District    Waste Type  Waste Generated (Tons/Day)  Recycling Rate (%)  \\\n",
       "0        Mumbai       Plastic                        6610                  68   \n",
       "1        Mumbai       Organic                        1181                  56   \n",
       "2        Mumbai       E-Waste                        8162                  53   \n",
       "3        Mumbai  Construction                        8929                  56   \n",
       "4        Mumbai     Hazardous                        5032                  44   \n",
       "\n",
       "   Population Density (People/km²)  Municipal Efficiency Score (1-10)  \\\n",
       "0                            11191                                  9   \n",
       "1                            11191                                  5   \n",
       "2                            11191                                  8   \n",
       "3                            11191                                  5   \n",
       "4                            11191                                  7   \n",
       "\n",
       "  Disposal Method  Cost of Waste Management (₹/Ton)  \\\n",
       "0      Composting                              3056   \n",
       "1      Composting                              2778   \n",
       "2    Incineration                              3390   \n",
       "3        Landfill                              1498   \n",
       "4       Recycling                              2221   \n",
       "\n",
       "   Awareness Campaigns Count    Landfill Name Landfill Location (Lat, Long)  \\\n",
       "0                         14  Mumbai Landfill              22.4265, 77.4931   \n",
       "1                         12  Mumbai Landfill              22.4265, 77.4931   \n",
       "2                         13  Mumbai Landfill              22.4265, 77.4931   \n",
       "3                         14  Mumbai Landfill              22.4265, 77.4931   \n",
       "4                         16  Mumbai Landfill              22.4265, 77.4931   \n",
       "\n",
       "   Landfill Capacity (Tons)  Year  \n",
       "0                     45575  2019  \n",
       "1                     45575  2019  \n",
       "2                     45575  2019  \n",
       "3                     45575  2019  \n",
       "4                     45575  2019  "
      ]
     },
     "execution_count": 6,
     "metadata": {},
     "output_type": "execute_result"
    }
   ],
   "source": [
    "df.head()"
   ]
  },
  {
   "cell_type": "markdown",
   "id": "595a833d",
   "metadata": {},
   "source": [
    "# 3.2 Metadata"
   ]
  },
  {
   "cell_type": "markdown",
   "id": "7a7d3d44",
   "metadata": {},
   "source": [
    "## Cols info and dtypes"
   ]
  },
  {
   "cell_type": "code",
   "execution_count": null,
   "id": "5dbdb3b7",
   "metadata": {},
   "outputs": [
    {
     "name": "stdout",
     "output_type": "stream",
     "text": [
      "<class 'pandas.core.frame.DataFrame'>\n",
      "RangeIndex: 850 entries, 0 to 849\n",
      "Data columns (total 13 columns):\n",
      " #   Column                             Non-Null Count  Dtype \n",
      "---  ------                             --------------  ----- \n",
      " 0   City/District                      850 non-null    object\n",
      " 1   Waste Type                         850 non-null    object\n",
      " 2   Waste Generated (Tons/Day)         850 non-null    int64 \n",
      " 3   Recycling Rate (%)                 850 non-null    int64 \n",
      " 4   Population Density (People/km²)    850 non-null    int64 \n",
      " 5   Municipal Efficiency Score (1-10)  850 non-null    int64 \n",
      " 6   Disposal Method                    850 non-null    object\n",
      " 7   Cost of Waste Management (₹/Ton)   850 non-null    int64 \n",
      " 8   Awareness Campaigns Count          850 non-null    int64 \n",
      " 9   Landfill Name                      850 non-null    object\n",
      " 10  Landfill Location (Lat, Long)      850 non-null    object\n",
      " 11  Landfill Capacity (Tons)           850 non-null    int64 \n",
      " 12  Year                               850 non-null    int64 \n",
      "dtypes: int64(8), object(5)\n",
      "memory usage: 86.5+ KB\n"
     ]
    }
   ],
   "source": [
    "\n",
    "df.info()"
   ]
  },
  {
   "cell_type": "markdown",
   "id": "c3669909",
   "metadata": {},
   "source": [
    "## 3.2 Duplicates"
   ]
  },
  {
   "cell_type": "code",
   "execution_count": 8,
   "id": "3cbf9886",
   "metadata": {},
   "outputs": [
    {
     "data": {
      "text/plain": [
       "np.int64(0)"
      ]
     },
     "execution_count": 8,
     "metadata": {},
     "output_type": "execute_result"
    }
   ],
   "source": [
    "df.duplicated().sum()"
   ]
  },
  {
   "cell_type": "markdown",
   "id": "1efe9117",
   "metadata": {},
   "source": [
    "## 3.3 Unique values and Count\n",
    "> **Unique value for categorical columns**"
   ]
  },
  {
   "cell_type": "code",
   "execution_count": null,
   "id": "d2e89f7d",
   "metadata": {},
   "outputs": [
    {
     "name": "stdout",
     "output_type": "stream",
     "text": [
      "City/District:\n",
      " ['Mumbai' 'Delhi' 'Bengaluru' 'Chennai' 'Kolkata' 'Hyderabad' 'Pune'\n",
      " 'Ahmedabad' 'Jaipur' 'Lucknow' 'Surat' 'Kanpur' 'Nagpur' 'Patna' 'Bhopal'\n",
      " 'Thiruvananthapuram' 'Indore' 'Vadodara' 'Guwahati' 'Coimbatore' 'Ranchi'\n",
      " 'Amritsar' 'Jodhpur' 'Varanasi' 'Ludhiana' 'Agra' 'Meerut' 'Nashik'\n",
      " 'Rajkot' 'Madurai' 'Jabalpur' 'Allahabad' 'Visakhapatnam' 'Gwalior']\n",
      "Waste Type:\n",
      " ['Plastic' 'Organic' 'E-Waste' 'Construction' 'Hazardous']\n",
      "Disposal Method:\n",
      " ['Composting' 'Incineration' 'Landfill' 'Recycling']\n",
      "Landfill Name:\n",
      " ['Mumbai Landfill' 'Delhi Landfill' 'Bengaluru Landfill'\n",
      " 'Chennai Landfill' 'Kolkata Landfill' 'Hyderabad Landfill'\n",
      " 'Pune Landfill' 'Ahmedabad Landfill' 'Jaipur Landfill' 'Lucknow Landfill'\n",
      " 'Surat Landfill' 'Kanpur Landfill' 'Nagpur Landfill' 'Patna Landfill'\n",
      " 'Bhopal Landfill' 'Thiruvananthapuram Landfill' 'Indore Landfill'\n",
      " 'Vadodara Landfill' 'Guwahati Landfill' 'Coimbatore Landfill'\n",
      " 'Ranchi Landfill' 'Amritsar Landfill' 'Jodhpur Landfill'\n",
      " 'Varanasi Landfill' 'Ludhiana Landfill' 'Agra Landfill' 'Meerut Landfill'\n",
      " 'Nashik Landfill' 'Rajkot Landfill' 'Madurai Landfill'\n",
      " 'Jabalpur Landfill' 'Allahabad Landfill' 'Visakhapatnam Landfill'\n",
      " 'Gwalior Landfill']\n",
      "Landfill Location (Lat, Long):\n",
      " ['22.4265, 77.4931' '30.2591, 91.9376' '15.7581, 85.4837'\n",
      " '29.4633, 80.8873' '16.068, 72.6096' '34.069, 82.1518' '28.7237, 84.2278'\n",
      " '19.3868, 72.7845' '11.6909, 94.4267' '10.3904, 81.8808'\n",
      " '32.805, 89.0238' '13.0189, 89.182' '35.7049, 71.8706' '18.5496, 94.8411'\n",
      " '18.3203, 75.8314' '17.2935, 83.4447' '24.6237, 95.1044'\n",
      " '31.3853, 71.6585' '19.7894, 85.8429' '31.9729, 76.5516'\n",
      " '13.4978, 84.8338' '22.6059, 88.4682' '8.9824, 77.0472' '35.156, 83.0516'\n",
      " '10.3062, 77.427' '32.4069, 92.1176' '14.3552, 72.9863'\n",
      " '14.6177, 91.4568' '30.6193, 68.7432' '13.1884, 95.8263'\n",
      " '20.0639, 89.516' '35.9642, 87.6951' '12.4235, 85.6407'\n",
      " '10.9566, 91.6565']\n"
     ]
    }
   ],
   "source": [
    "for col in df.select_dtypes(include=['object']).columns:\n",
    "    print(f\"{col}:\\n {df[col].unique()}\")"
   ]
  },
  {
   "cell_type": "markdown",
   "id": "ab50054e",
   "metadata": {},
   "source": [
    "# 4. Data_cleaning\n",
    "\n",
    "* we will optimize columns name's\n"
   ]
  },
  {
   "cell_type": "code",
   "execution_count": 14,
   "id": "9eef10f0",
   "metadata": {},
   "outputs": [
    {
     "data": {
      "application/vnd.microsoft.datawrangler.viewer.v0+json": {
       "columns": [
        {
         "name": "index",
         "rawType": "int64",
         "type": "integer"
        },
        {
         "name": "city/district",
         "rawType": "object",
         "type": "string"
        },
        {
         "name": "waste_type",
         "rawType": "object",
         "type": "string"
        },
        {
         "name": "waste_generated_(tons/day)",
         "rawType": "int64",
         "type": "integer"
        },
        {
         "name": "recycling_rate_(%)",
         "rawType": "int64",
         "type": "integer"
        },
        {
         "name": "population_density_(people/km²)",
         "rawType": "int64",
         "type": "integer"
        },
        {
         "name": "municipal_efficiency_score_(1_10)",
         "rawType": "int64",
         "type": "integer"
        },
        {
         "name": "disposal_method",
         "rawType": "object",
         "type": "string"
        },
        {
         "name": "cost_of_waste_management_(₹/ton)",
         "rawType": "int64",
         "type": "integer"
        },
        {
         "name": "awareness_campaigns_count",
         "rawType": "int64",
         "type": "integer"
        },
        {
         "name": "landfill_name",
         "rawType": "object",
         "type": "string"
        },
        {
         "name": "landfill_location_(lat,_long)",
         "rawType": "object",
         "type": "string"
        },
        {
         "name": "landfill_capacity_(tons)",
         "rawType": "int64",
         "type": "integer"
        },
        {
         "name": "year",
         "rawType": "int64",
         "type": "integer"
        }
       ],
       "ref": "f9e30204-64d8-412e-b98b-39beb54e0c14",
       "rows": [
        [
         "0",
         "Mumbai",
         "Plastic",
         "6610",
         "68",
         "11191",
         "9",
         "Composting",
         "3056",
         "14",
         "Mumbai Landfill",
         "22.4265, 77.4931",
         "45575",
         "2019"
        ],
        [
         "1",
         "Mumbai",
         "Organic",
         "1181",
         "56",
         "11191",
         "5",
         "Composting",
         "2778",
         "12",
         "Mumbai Landfill",
         "22.4265, 77.4931",
         "45575",
         "2019"
        ],
        [
         "2",
         "Mumbai",
         "E-Waste",
         "8162",
         "53",
         "11191",
         "8",
         "Incineration",
         "3390",
         "13",
         "Mumbai Landfill",
         "22.4265, 77.4931",
         "45575",
         "2019"
        ],
        [
         "3",
         "Mumbai",
         "Construction",
         "8929",
         "56",
         "11191",
         "5",
         "Landfill",
         "1498",
         "14",
         "Mumbai Landfill",
         "22.4265, 77.4931",
         "45575",
         "2019"
        ],
        [
         "4",
         "Mumbai",
         "Hazardous",
         "5032",
         "44",
         "11191",
         "7",
         "Recycling",
         "2221",
         "16",
         "Mumbai Landfill",
         "22.4265, 77.4931",
         "45575",
         "2019"
        ]
       ],
       "shape": {
        "columns": 13,
        "rows": 5
       }
      },
      "text/html": [
       "<div>\n",
       "<style scoped>\n",
       "    .dataframe tbody tr th:only-of-type {\n",
       "        vertical-align: middle;\n",
       "    }\n",
       "\n",
       "    .dataframe tbody tr th {\n",
       "        vertical-align: top;\n",
       "    }\n",
       "\n",
       "    .dataframe thead th {\n",
       "        text-align: right;\n",
       "    }\n",
       "</style>\n",
       "<table border=\"1\" class=\"dataframe\">\n",
       "  <thead>\n",
       "    <tr style=\"text-align: right;\">\n",
       "      <th></th>\n",
       "      <th>city/district</th>\n",
       "      <th>waste_type</th>\n",
       "      <th>waste_generated_(tons/day)</th>\n",
       "      <th>recycling_rate_(%)</th>\n",
       "      <th>population_density_(people/km²)</th>\n",
       "      <th>municipal_efficiency_score_(1_10)</th>\n",
       "      <th>disposal_method</th>\n",
       "      <th>cost_of_waste_management_(₹/ton)</th>\n",
       "      <th>awareness_campaigns_count</th>\n",
       "      <th>landfill_name</th>\n",
       "      <th>landfill_location_(lat,_long)</th>\n",
       "      <th>landfill_capacity_(tons)</th>\n",
       "      <th>year</th>\n",
       "    </tr>\n",
       "  </thead>\n",
       "  <tbody>\n",
       "    <tr>\n",
       "      <th>0</th>\n",
       "      <td>Mumbai</td>\n",
       "      <td>Plastic</td>\n",
       "      <td>6610</td>\n",
       "      <td>68</td>\n",
       "      <td>11191</td>\n",
       "      <td>9</td>\n",
       "      <td>Composting</td>\n",
       "      <td>3056</td>\n",
       "      <td>14</td>\n",
       "      <td>Mumbai Landfill</td>\n",
       "      <td>22.4265, 77.4931</td>\n",
       "      <td>45575</td>\n",
       "      <td>2019</td>\n",
       "    </tr>\n",
       "    <tr>\n",
       "      <th>1</th>\n",
       "      <td>Mumbai</td>\n",
       "      <td>Organic</td>\n",
       "      <td>1181</td>\n",
       "      <td>56</td>\n",
       "      <td>11191</td>\n",
       "      <td>5</td>\n",
       "      <td>Composting</td>\n",
       "      <td>2778</td>\n",
       "      <td>12</td>\n",
       "      <td>Mumbai Landfill</td>\n",
       "      <td>22.4265, 77.4931</td>\n",
       "      <td>45575</td>\n",
       "      <td>2019</td>\n",
       "    </tr>\n",
       "    <tr>\n",
       "      <th>2</th>\n",
       "      <td>Mumbai</td>\n",
       "      <td>E-Waste</td>\n",
       "      <td>8162</td>\n",
       "      <td>53</td>\n",
       "      <td>11191</td>\n",
       "      <td>8</td>\n",
       "      <td>Incineration</td>\n",
       "      <td>3390</td>\n",
       "      <td>13</td>\n",
       "      <td>Mumbai Landfill</td>\n",
       "      <td>22.4265, 77.4931</td>\n",
       "      <td>45575</td>\n",
       "      <td>2019</td>\n",
       "    </tr>\n",
       "    <tr>\n",
       "      <th>3</th>\n",
       "      <td>Mumbai</td>\n",
       "      <td>Construction</td>\n",
       "      <td>8929</td>\n",
       "      <td>56</td>\n",
       "      <td>11191</td>\n",
       "      <td>5</td>\n",
       "      <td>Landfill</td>\n",
       "      <td>1498</td>\n",
       "      <td>14</td>\n",
       "      <td>Mumbai Landfill</td>\n",
       "      <td>22.4265, 77.4931</td>\n",
       "      <td>45575</td>\n",
       "      <td>2019</td>\n",
       "    </tr>\n",
       "    <tr>\n",
       "      <th>4</th>\n",
       "      <td>Mumbai</td>\n",
       "      <td>Hazardous</td>\n",
       "      <td>5032</td>\n",
       "      <td>44</td>\n",
       "      <td>11191</td>\n",
       "      <td>7</td>\n",
       "      <td>Recycling</td>\n",
       "      <td>2221</td>\n",
       "      <td>16</td>\n",
       "      <td>Mumbai Landfill</td>\n",
       "      <td>22.4265, 77.4931</td>\n",
       "      <td>45575</td>\n",
       "      <td>2019</td>\n",
       "    </tr>\n",
       "  </tbody>\n",
       "</table>\n",
       "</div>"
      ],
      "text/plain": [
       "  city/district    waste_type  waste_generated_(tons/day)  recycling_rate_(%)  \\\n",
       "0        Mumbai       Plastic                        6610                  68   \n",
       "1        Mumbai       Organic                        1181                  56   \n",
       "2        Mumbai       E-Waste                        8162                  53   \n",
       "3        Mumbai  Construction                        8929                  56   \n",
       "4        Mumbai     Hazardous                        5032                  44   \n",
       "\n",
       "   population_density_(people/km²)  municipal_efficiency_score_(1_10)  \\\n",
       "0                            11191                                  9   \n",
       "1                            11191                                  5   \n",
       "2                            11191                                  8   \n",
       "3                            11191                                  5   \n",
       "4                            11191                                  7   \n",
       "\n",
       "  disposal_method  cost_of_waste_management_(₹/ton)  \\\n",
       "0      Composting                              3056   \n",
       "1      Composting                              2778   \n",
       "2    Incineration                              3390   \n",
       "3        Landfill                              1498   \n",
       "4       Recycling                              2221   \n",
       "\n",
       "   awareness_campaigns_count    landfill_name landfill_location_(lat,_long)  \\\n",
       "0                         14  Mumbai Landfill              22.4265, 77.4931   \n",
       "1                         12  Mumbai Landfill              22.4265, 77.4931   \n",
       "2                         13  Mumbai Landfill              22.4265, 77.4931   \n",
       "3                         14  Mumbai Landfill              22.4265, 77.4931   \n",
       "4                         16  Mumbai Landfill              22.4265, 77.4931   \n",
       "\n",
       "   landfill_capacity_(tons)  year  \n",
       "0                     45575  2019  \n",
       "1                     45575  2019  \n",
       "2                     45575  2019  \n",
       "3                     45575  2019  \n",
       "4                     45575  2019  "
      ]
     },
     "execution_count": 14,
     "metadata": {},
     "output_type": "execute_result"
    }
   ],
   "source": [
    "df.columns = df.columns.str.strip().str.lower().str.replace(' ', '_').str.replace('-', '_')\n",
    "df.head()"
   ]
  },
  {
   "cell_type": "code",
   "execution_count": null,
   "id": "083c29fa",
   "metadata": {},
   "outputs": [],
   "source": [
    "# Data type correction for Year col.\n",
    "df['year'] = pd.to_datetime(df['year'], errors='coerce').dt.year"
   ]
  },
  {
   "cell_type": "code",
   "execution_count": 18,
   "id": "6184a8bd",
   "metadata": {},
   "outputs": [],
   "source": [
    "df.to_csv(\"../data/processed/Waste_Management_and_Recycling_India_cleaned.csv\", index=False)"
   ]
  },
  {
   "cell_type": "markdown",
   "id": "816bf15f",
   "metadata": {},
   "source": [
    "# Summary insights:\n",
    "- No null values found.\n",
    "- No duplicates found.\n",
    "- No mis-entered values found.\n",
    "- corrected \"year\" cols dtype to date and time.\n",
    "- skipped preprocessing , will include include in model_training.ipynb -Pipeline method."
   ]
  }
 ],
 "metadata": {
  "kernelspec": {
   "display_name": "waste_hackthon",
   "language": "python",
   "name": "python3"
  },
  "language_info": {
   "codemirror_mode": {
    "name": "ipython",
    "version": 3
   },
   "file_extension": ".py",
   "mimetype": "text/x-python",
   "name": "python",
   "nbconvert_exporter": "python",
   "pygments_lexer": "ipython3",
   "version": "3.10.18"
  }
 },
 "nbformat": 4,
 "nbformat_minor": 5
}
