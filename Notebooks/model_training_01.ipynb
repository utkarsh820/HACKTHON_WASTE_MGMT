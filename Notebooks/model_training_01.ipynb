{
 "cells": [
  {
   "cell_type": "markdown",
   "id": "1ecb9287",
   "metadata": {},
   "source": [
    "<div style=\"\n",
    "  text-align: center; \n",
    "  color: white; \n",
    "  background: linear-gradient(135deg, #2e8b57, #3cb371); \n",
    "  padding: 25px; \n",
    "  border-radius: 12px;\n",
    "  box-shadow: 0 4px 10px rgba(0,0,0,0.2);\n",
    "  max-width: 600px;\n",
    "  margin: 30px auto;\n",
    "\">\n",
    "  <h1 style=\"margin: 0; font-size: 2.2em;\">Waste Management ML Model Training</h1>\n",
    "  <p style=\"font-size: 18px; margin-top: 8px; opacity: 0.95;\">\n",
    "    Predicting recycling rates with preprocessing pipelines and advanced models\n",
    "  </p>\n",
    "</div>"
   ]
  },
  {
   "cell_type": "markdown",
   "id": "98df4583",
   "metadata": {},
   "source": [
    "# 1. Import Libraries"
   ]
  },
  {
   "cell_type": "code",
   "execution_count": 2,
   "id": "afe27d1a",
   "metadata": {},
   "outputs": [],
   "source": [
    "import pandas as pd\n",
    "import numpy as np\n",
    "import matplotlib.pyplot as plt\n",
    "import seaborn as sns\n",
    "\n",
    "# For preprocessing\n",
    "from sklearn.preprocessing import StandardScaler, OneHotEncoder\n",
    "from sklearn.compose import ColumnTransformer\n",
    "from sklearn.pipeline import Pipeline\n",
    "from sklearn.impute import SimpleImputer\n",
    "from sklearn.model_selection import train_test_split, cross_val_score, GridSearchCV\n",
    "\n",
    "from sklearn.model_selection import KFold, RandomizedSearchCV\n",
    "from sklearn.linear_model import Ridge, LinearRegression, ElasticNet, SGDRegressor\n",
    "from sklearn.feature_selection import SelectFromModel\n",
    "\n",
    "# ML Models\n",
    "from sklearn.linear_model import LinearRegression, Ridge, Lasso\n",
    "from sklearn.ensemble import RandomForestRegressor\n",
    "import xgboost as xgb\n",
    "import lightgbm as lgb\n",
    "from catboost import CatBoostRegressor\n",
    "\n",
    "# Multicollinearity check\n",
    "from statsmodels.stats.outliers_influence import variance_inflation_factor\n",
    "from statsmodels.tools.tools import add_constant\n",
    "\n",
    "# Metrics\n",
    "from sklearn.metrics import mean_squared_error, mean_absolute_error, r2_score\n",
    "\n",
    "# MLflow for tracking\n",
    "import mlflow\n",
    "import mlflow.sklearn\n",
    "\n",
    "# For model explanation\n",
    "import shap\n",
    "\n",
    "import warnings\n",
    "warnings.filterwarnings('ignore')"
   ]
  },
  {
   "cell_type": "markdown",
   "id": "ea701f08",
   "metadata": {},
   "source": [
    "# 2. Data Ingestion"
   ]
  },
  {
   "cell_type": "code",
   "execution_count": 3,
   "id": "dd952602",
   "metadata": {},
   "outputs": [
    {
     "data": {
      "application/vnd.microsoft.datawrangler.viewer.v0+json": {
       "columns": [
        {
         "name": "index",
         "rawType": "int64",
         "type": "integer"
        },
        {
         "name": "city/district",
         "rawType": "object",
         "type": "string"
        },
        {
         "name": "waste_type",
         "rawType": "object",
         "type": "string"
        },
        {
         "name": "waste_generated_(tons/day)",
         "rawType": "int64",
         "type": "integer"
        },
        {
         "name": "recycling_rate_(%)",
         "rawType": "int64",
         "type": "integer"
        },
        {
         "name": "population_density_(people/km²)",
         "rawType": "int64",
         "type": "integer"
        },
        {
         "name": "municipal_efficiency_score_(1_10)",
         "rawType": "int64",
         "type": "integer"
        },
        {
         "name": "disposal_method",
         "rawType": "object",
         "type": "string"
        },
        {
         "name": "cost_of_waste_management_(₹/ton)",
         "rawType": "int64",
         "type": "integer"
        },
        {
         "name": "awareness_campaigns_count",
         "rawType": "int64",
         "type": "integer"
        },
        {
         "name": "landfill_name",
         "rawType": "object",
         "type": "string"
        },
        {
         "name": "landfill_location_(lat,_long)",
         "rawType": "object",
         "type": "string"
        },
        {
         "name": "landfill_capacity_(tons)",
         "rawType": "int64",
         "type": "integer"
        },
        {
         "name": "year",
         "rawType": "int64",
         "type": "integer"
        }
       ],
       "ref": "253260fd-1193-47b8-83c6-23616d8e2269",
       "rows": [
        [
         "0",
         "Mumbai",
         "Plastic",
         "6610",
         "68",
         "11191",
         "9",
         "Composting",
         "3056",
         "14",
         "Mumbai Landfill",
         "22.4265, 77.4931",
         "45575",
         "1970"
        ],
        [
         "1",
         "Mumbai",
         "Organic",
         "1181",
         "56",
         "11191",
         "5",
         "Composting",
         "2778",
         "12",
         "Mumbai Landfill",
         "22.4265, 77.4931",
         "45575",
         "1970"
        ],
        [
         "2",
         "Mumbai",
         "E-Waste",
         "8162",
         "53",
         "11191",
         "8",
         "Incineration",
         "3390",
         "13",
         "Mumbai Landfill",
         "22.4265, 77.4931",
         "45575",
         "1970"
        ],
        [
         "3",
         "Mumbai",
         "Construction",
         "8929",
         "56",
         "11191",
         "5",
         "Landfill",
         "1498",
         "14",
         "Mumbai Landfill",
         "22.4265, 77.4931",
         "45575",
         "1970"
        ],
        [
         "4",
         "Mumbai",
         "Hazardous",
         "5032",
         "44",
         "11191",
         "7",
         "Recycling",
         "2221",
         "16",
         "Mumbai Landfill",
         "22.4265, 77.4931",
         "45575",
         "1970"
        ]
       ],
       "shape": {
        "columns": 13,
        "rows": 5
       }
      },
      "text/html": [
       "<div>\n",
       "<style scoped>\n",
       "    .dataframe tbody tr th:only-of-type {\n",
       "        vertical-align: middle;\n",
       "    }\n",
       "\n",
       "    .dataframe tbody tr th {\n",
       "        vertical-align: top;\n",
       "    }\n",
       "\n",
       "    .dataframe thead th {\n",
       "        text-align: right;\n",
       "    }\n",
       "</style>\n",
       "<table border=\"1\" class=\"dataframe\">\n",
       "  <thead>\n",
       "    <tr style=\"text-align: right;\">\n",
       "      <th></th>\n",
       "      <th>city/district</th>\n",
       "      <th>waste_type</th>\n",
       "      <th>waste_generated_(tons/day)</th>\n",
       "      <th>recycling_rate_(%)</th>\n",
       "      <th>population_density_(people/km²)</th>\n",
       "      <th>municipal_efficiency_score_(1_10)</th>\n",
       "      <th>disposal_method</th>\n",
       "      <th>cost_of_waste_management_(₹/ton)</th>\n",
       "      <th>awareness_campaigns_count</th>\n",
       "      <th>landfill_name</th>\n",
       "      <th>landfill_location_(lat,_long)</th>\n",
       "      <th>landfill_capacity_(tons)</th>\n",
       "      <th>year</th>\n",
       "    </tr>\n",
       "  </thead>\n",
       "  <tbody>\n",
       "    <tr>\n",
       "      <th>0</th>\n",
       "      <td>Mumbai</td>\n",
       "      <td>Plastic</td>\n",
       "      <td>6610</td>\n",
       "      <td>68</td>\n",
       "      <td>11191</td>\n",
       "      <td>9</td>\n",
       "      <td>Composting</td>\n",
       "      <td>3056</td>\n",
       "      <td>14</td>\n",
       "      <td>Mumbai Landfill</td>\n",
       "      <td>22.4265, 77.4931</td>\n",
       "      <td>45575</td>\n",
       "      <td>1970</td>\n",
       "    </tr>\n",
       "    <tr>\n",
       "      <th>1</th>\n",
       "      <td>Mumbai</td>\n",
       "      <td>Organic</td>\n",
       "      <td>1181</td>\n",
       "      <td>56</td>\n",
       "      <td>11191</td>\n",
       "      <td>5</td>\n",
       "      <td>Composting</td>\n",
       "      <td>2778</td>\n",
       "      <td>12</td>\n",
       "      <td>Mumbai Landfill</td>\n",
       "      <td>22.4265, 77.4931</td>\n",
       "      <td>45575</td>\n",
       "      <td>1970</td>\n",
       "    </tr>\n",
       "    <tr>\n",
       "      <th>2</th>\n",
       "      <td>Mumbai</td>\n",
       "      <td>E-Waste</td>\n",
       "      <td>8162</td>\n",
       "      <td>53</td>\n",
       "      <td>11191</td>\n",
       "      <td>8</td>\n",
       "      <td>Incineration</td>\n",
       "      <td>3390</td>\n",
       "      <td>13</td>\n",
       "      <td>Mumbai Landfill</td>\n",
       "      <td>22.4265, 77.4931</td>\n",
       "      <td>45575</td>\n",
       "      <td>1970</td>\n",
       "    </tr>\n",
       "    <tr>\n",
       "      <th>3</th>\n",
       "      <td>Mumbai</td>\n",
       "      <td>Construction</td>\n",
       "      <td>8929</td>\n",
       "      <td>56</td>\n",
       "      <td>11191</td>\n",
       "      <td>5</td>\n",
       "      <td>Landfill</td>\n",
       "      <td>1498</td>\n",
       "      <td>14</td>\n",
       "      <td>Mumbai Landfill</td>\n",
       "      <td>22.4265, 77.4931</td>\n",
       "      <td>45575</td>\n",
       "      <td>1970</td>\n",
       "    </tr>\n",
       "    <tr>\n",
       "      <th>4</th>\n",
       "      <td>Mumbai</td>\n",
       "      <td>Hazardous</td>\n",
       "      <td>5032</td>\n",
       "      <td>44</td>\n",
       "      <td>11191</td>\n",
       "      <td>7</td>\n",
       "      <td>Recycling</td>\n",
       "      <td>2221</td>\n",
       "      <td>16</td>\n",
       "      <td>Mumbai Landfill</td>\n",
       "      <td>22.4265, 77.4931</td>\n",
       "      <td>45575</td>\n",
       "      <td>1970</td>\n",
       "    </tr>\n",
       "  </tbody>\n",
       "</table>\n",
       "</div>"
      ],
      "text/plain": [
       "  city/district    waste_type  waste_generated_(tons/day)  recycling_rate_(%)  \\\n",
       "0        Mumbai       Plastic                        6610                  68   \n",
       "1        Mumbai       Organic                        1181                  56   \n",
       "2        Mumbai       E-Waste                        8162                  53   \n",
       "3        Mumbai  Construction                        8929                  56   \n",
       "4        Mumbai     Hazardous                        5032                  44   \n",
       "\n",
       "   population_density_(people/km²)  municipal_efficiency_score_(1_10)  \\\n",
       "0                            11191                                  9   \n",
       "1                            11191                                  5   \n",
       "2                            11191                                  8   \n",
       "3                            11191                                  5   \n",
       "4                            11191                                  7   \n",
       "\n",
       "  disposal_method  cost_of_waste_management_(₹/ton)  \\\n",
       "0      Composting                              3056   \n",
       "1      Composting                              2778   \n",
       "2    Incineration                              3390   \n",
       "3        Landfill                              1498   \n",
       "4       Recycling                              2221   \n",
       "\n",
       "   awareness_campaigns_count    landfill_name landfill_location_(lat,_long)  \\\n",
       "0                         14  Mumbai Landfill              22.4265, 77.4931   \n",
       "1                         12  Mumbai Landfill              22.4265, 77.4931   \n",
       "2                         13  Mumbai Landfill              22.4265, 77.4931   \n",
       "3                         14  Mumbai Landfill              22.4265, 77.4931   \n",
       "4                         16  Mumbai Landfill              22.4265, 77.4931   \n",
       "\n",
       "   landfill_capacity_(tons)  year  \n",
       "0                     45575  1970  \n",
       "1                     45575  1970  \n",
       "2                     45575  1970  \n",
       "3                     45575  1970  \n",
       "4                     45575  1970  "
      ]
     },
     "execution_count": 3,
     "metadata": {},
     "output_type": "execute_result"
    }
   ],
   "source": [
    "df = pd.read_csv('../data/processed/Waste_Management_and_Recycling_india_cleaned.csv')\n",
    "df.head()"
   ]
  },
  {
   "cell_type": "code",
   "execution_count": 4,
   "id": "b8529855",
   "metadata": {},
   "outputs": [
    {
     "name": "stdout",
     "output_type": "stream",
     "text": [
      "Available columns: ['city/district', 'waste_type', 'waste_generated_(tons/day)', 'recycling_rate_(%)', 'population_density_(people/km²)', 'municipal_efficiency_score_(1_10)', 'disposal_method', 'cost_of_waste_management_(₹/ton)', 'awareness_campaigns_count', 'landfill_name', 'landfill_location_(lat,_long)', 'landfill_capacity_(tons)', 'year']\n"
     ]
    }
   ],
   "source": [
    "# Check available columns\n",
    "print(\"Available columns:\", df.columns.tolist())"
   ]
  },
  {
   "cell_type": "markdown",
   "id": "3e012b1f",
   "metadata": {},
   "source": [
    "# 2. Feature Engneering"
   ]
  },
  {
   "cell_type": "markdown",
   "id": "41720673",
   "metadata": {},
   "source": [
    "- We know 4 cols are highly correlated ['landfill_capacity', 'landfill_location', 'landfill_name', 'population_density'].\n",
    "- so, i will begin with removing some of them.\n",
    "- Note, not all algorithms required to handle correlation externally. for eg:- Tree_based and Neural Network (sometimes)"
   ]
  },
  {
   "cell_type": "code",
   "execution_count": 5,
   "id": "bd84f755",
   "metadata": {},
   "outputs": [
    {
     "data": {
      "application/vnd.microsoft.datawrangler.viewer.v0+json": {
       "columns": [
        {
         "name": "index",
         "rawType": "int64",
         "type": "integer"
        },
        {
         "name": "Features",
         "rawType": "object",
         "type": "string"
        },
        {
         "name": "VIF",
         "rawType": "float64",
         "type": "float"
        }
       ],
       "ref": "856875b1-f38c-4bb9-bae6-297cb9877b15",
       "rows": [
        [
         "0",
         "waste_generated_(tons/day)",
         "1.003641315712474"
        ],
        [
         "1",
         "population_density_(people/km²)",
         "1.0755534079464841"
        ],
        [
         "2",
         "municipal_efficiency_score_(1_10)",
         "1.0161384609073454"
        ],
        [
         "3",
         "cost_of_waste_management_(₹/ton)",
         "1.0085508050895786"
        ],
        [
         "4",
         "awareness_campaigns_count",
         "1.0080007603859351"
        ],
        [
         "5",
         "landfill_capacity_(tons)",
         "1.0722096996002595"
        ],
        [
         "6",
         "year",
         "47.815338591420854"
        ]
       ],
       "shape": {
        "columns": 2,
        "rows": 7
       }
      },
      "text/html": [
       "<div>\n",
       "<style scoped>\n",
       "    .dataframe tbody tr th:only-of-type {\n",
       "        vertical-align: middle;\n",
       "    }\n",
       "\n",
       "    .dataframe tbody tr th {\n",
       "        vertical-align: top;\n",
       "    }\n",
       "\n",
       "    .dataframe thead th {\n",
       "        text-align: right;\n",
       "    }\n",
       "</style>\n",
       "<table border=\"1\" class=\"dataframe\">\n",
       "  <thead>\n",
       "    <tr style=\"text-align: right;\">\n",
       "      <th></th>\n",
       "      <th>Features</th>\n",
       "      <th>VIF</th>\n",
       "    </tr>\n",
       "  </thead>\n",
       "  <tbody>\n",
       "    <tr>\n",
       "      <th>0</th>\n",
       "      <td>waste_generated_(tons/day)</td>\n",
       "      <td>1.003641</td>\n",
       "    </tr>\n",
       "    <tr>\n",
       "      <th>1</th>\n",
       "      <td>population_density_(people/km²)</td>\n",
       "      <td>1.075553</td>\n",
       "    </tr>\n",
       "    <tr>\n",
       "      <th>2</th>\n",
       "      <td>municipal_efficiency_score_(1_10)</td>\n",
       "      <td>1.016138</td>\n",
       "    </tr>\n",
       "    <tr>\n",
       "      <th>3</th>\n",
       "      <td>cost_of_waste_management_(₹/ton)</td>\n",
       "      <td>1.008551</td>\n",
       "    </tr>\n",
       "    <tr>\n",
       "      <th>4</th>\n",
       "      <td>awareness_campaigns_count</td>\n",
       "      <td>1.008001</td>\n",
       "    </tr>\n",
       "    <tr>\n",
       "      <th>5</th>\n",
       "      <td>landfill_capacity_(tons)</td>\n",
       "      <td>1.072210</td>\n",
       "    </tr>\n",
       "    <tr>\n",
       "      <th>6</th>\n",
       "      <td>year</td>\n",
       "      <td>47.815339</td>\n",
       "    </tr>\n",
       "  </tbody>\n",
       "</table>\n",
       "</div>"
      ],
      "text/plain": [
       "                            Features        VIF\n",
       "0         waste_generated_(tons/day)   1.003641\n",
       "1    population_density_(people/km²)   1.075553\n",
       "2  municipal_efficiency_score_(1_10)   1.016138\n",
       "3   cost_of_waste_management_(₹/ton)   1.008551\n",
       "4          awareness_campaigns_count   1.008001\n",
       "5           landfill_capacity_(tons)   1.072210\n",
       "6                               year  47.815339"
      ]
     },
     "execution_count": 5,
     "metadata": {},
     "output_type": "execute_result"
    }
   ],
   "source": [
    "# we will drop highly correlated cols and create some new features\n",
    "numeric_cols = df.select_dtypes(include=[np.number]).drop(columns=['recycling_rate_(%)'])\n",
    "\n",
    "X = add_constant(numeric_cols)\n",
    "vif = pd.DataFrame()\n",
    "vif['Features'] = X.columns\n",
    "vif['VIF'] = [variance_inflation_factor(X.values, i) for i in range(X.shape[1])]\n",
    "vif\n"
   ]
  },
  {
   "cell_type": "markdown",
   "id": "303db650",
   "metadata": {},
   "source": [
    "### Insights\n",
    "- No cols in numeric in are highly correlated i.e > 5, except year\n",
    "- we will drop year for 2 main reasons, 1. it's constant(only one value throught out the records) 2. no usefull information."
   ]
  },
  {
   "cell_type": "markdown",
   "id": "d45f7373",
   "metadata": {},
   "source": [
    "### 2.1 We will also drop the useless categorical cols which are in high correlations."
   ]
  },
  {
   "cell_type": "code",
   "execution_count": 6,
   "id": "a28ca871",
   "metadata": {},
   "outputs": [],
   "source": [
    "# Dropping year col\n",
    "df1 = df.copy()\n",
    "df1.drop(columns=['year', 'landfill_name', 'landfill_location_(lat,_long)'], inplace=True, errors='ignore')"
   ]
  },
  {
   "cell_type": "markdown",
   "id": "452f9bc3",
   "metadata": {},
   "source": [
    "### 2.2 Creating New Features"
   ]
  },
  {
   "cell_type": "code",
   "execution_count": 7,
   "id": "e5ea37ca",
   "metadata": {},
   "outputs": [],
   "source": [
    "# Feature 1: How much over landfill capacity can actually utilize land for monthly waste, percentage\n",
    "df1['landfill_monthly_limit_(%)'] =  ((df1['landfill_capacity_(tons)'] / (df1['waste_generated_(tons/day)'] * 30)) * 100).round()"
   ]
  },
  {
   "cell_type": "code",
   "execution_count": 8,
   "id": "8e0ad4a4",
   "metadata": {},
   "outputs": [],
   "source": [
    "# Feature 2: Awareness campaign effectiveness - potential impact of campaigns on recycling\n",
    "df1['campaign_density'] = (df1['awareness_campaigns_count'] /   df1['population_density_(people/km²)']).round(4) * 1000  "
   ]
  },
  {
   "cell_type": "markdown",
   "id": "a32fd842",
   "metadata": {},
   "source": [
    "**Created 2 New Features :**\n",
    "- landfill_monthly_limit_(%) : How much over landfill capacity can actually utilize land for monthly waste, percentage.\n",
    "- campaign_density : Awareness campaign effectiveness - potential impact of campaigns on recycling"
   ]
  },
  {
   "cell_type": "markdown",
   "id": "e0ea011c",
   "metadata": {},
   "source": [
    "# 3. Defining Features & Target + Train_Test_Split"
   ]
  },
  {
   "cell_type": "code",
   "execution_count": 9,
   "id": "9df05420",
   "metadata": {},
   "outputs": [],
   "source": [
    "X = df1.drop(columns=['recycling_rate_(%)'])\n",
    "y = df1['recycling_rate_(%)']\n",
    "\n",
    "X_train, X_test, y_train, y_test = train_test_split(X, y, test_size=0.2, random_state=7)"
   ]
  },
  {
   "cell_type": "markdown",
   "id": "1eca6ddf",
   "metadata": {},
   "source": [
    "# 4. Preprocessing Pipelines"
   ]
  },
  {
   "cell_type": "code",
   "execution_count": 10,
   "id": "b813dff3",
   "metadata": {},
   "outputs": [],
   "source": [
    "numeric_cols = X.select_dtypes(include=['int64', 'float64']).columns.to_list()\n",
    "categorical_cols = X.select_dtypes(include=['object']).columns.to_list()\n",
    "\n",
    "numeric_scaler = Pipeline(steps=[\n",
    "    ('scaler', StandardScaler())\n",
    "])\n",
    "categorical_encoder = Pipeline(steps=[\n",
    "    ('encoder', OneHotEncoder(handle_unknown='ignore'))\n",
    "])\n",
    "\n",
    "preprocessor = ColumnTransformer([\n",
    "    ('num', numeric_scaler, numeric_cols),\n",
    "    ('cat', categorical_encoder, categorical_cols)\n",
    "])"
   ]
  },
  {
   "cell_type": "markdown",
   "id": "287a6fe2",
   "metadata": {},
   "source": [
    "# 5. Cross_Val_Check"
   ]
  },
  {
   "cell_type": "code",
   "execution_count": 11,
   "id": "c9b58e8a",
   "metadata": {},
   "outputs": [
    {
     "name": "stdout",
     "output_type": "stream",
     "text": [
      "LinearRegression: RMSE = 16.9278, R² = -0.1070\n",
      "Lasso: RMSE = 16.1739, R² = -0.0093\n",
      "RandomForestRegressor: RMSE = 16.5978, R² = -0.0643\n",
      "xgboost: RMSE = 18.3978, R² = -0.3083\n",
      "CatBoostRegressor: RMSE = 17.3524, R² = -0.1639\n",
      "lightgbm: RMSE = 17.8695, R² = -0.2362\n"
     ]
    },
    {
     "data": {
      "application/vnd.microsoft.datawrangler.viewer.v0+json": {
       "columns": [
        {
         "name": "index",
         "rawType": "int64",
         "type": "integer"
        },
        {
         "name": "Model",
         "rawType": "object",
         "type": "string"
        },
        {
         "name": "RMSE",
         "rawType": "float64",
         "type": "float"
        },
        {
         "name": "R2",
         "rawType": "float64",
         "type": "float"
        }
       ],
       "ref": "2ec0d1bf-7d03-4be7-a4a3-0890dfd3b98c",
       "rows": [
        [
         "1",
         "Lasso",
         "16.17",
         "-0.01"
        ],
        [
         "2",
         "RandomForestRegressor",
         "16.6",
         "-0.06"
        ],
        [
         "0",
         "LinearRegression",
         "16.93",
         "-0.11"
        ],
        [
         "4",
         "CatBoostRegressor",
         "17.35",
         "-0.16"
        ],
        [
         "5",
         "lightgbm",
         "17.87",
         "-0.24"
        ],
        [
         "3",
         "xgboost",
         "18.4",
         "-0.31"
        ]
       ],
       "shape": {
        "columns": 3,
        "rows": 6
       }
      },
      "text/html": [
       "<div>\n",
       "<style scoped>\n",
       "    .dataframe tbody tr th:only-of-type {\n",
       "        vertical-align: middle;\n",
       "    }\n",
       "\n",
       "    .dataframe tbody tr th {\n",
       "        vertical-align: top;\n",
       "    }\n",
       "\n",
       "    .dataframe thead th {\n",
       "        text-align: right;\n",
       "    }\n",
       "</style>\n",
       "<table border=\"1\" class=\"dataframe\">\n",
       "  <thead>\n",
       "    <tr style=\"text-align: right;\">\n",
       "      <th></th>\n",
       "      <th>Model</th>\n",
       "      <th>RMSE</th>\n",
       "      <th>R2</th>\n",
       "    </tr>\n",
       "  </thead>\n",
       "  <tbody>\n",
       "    <tr>\n",
       "      <th>1</th>\n",
       "      <td>Lasso</td>\n",
       "      <td>16.17</td>\n",
       "      <td>-0.01</td>\n",
       "    </tr>\n",
       "    <tr>\n",
       "      <th>2</th>\n",
       "      <td>RandomForestRegressor</td>\n",
       "      <td>16.60</td>\n",
       "      <td>-0.06</td>\n",
       "    </tr>\n",
       "    <tr>\n",
       "      <th>0</th>\n",
       "      <td>LinearRegression</td>\n",
       "      <td>16.93</td>\n",
       "      <td>-0.11</td>\n",
       "    </tr>\n",
       "    <tr>\n",
       "      <th>4</th>\n",
       "      <td>CatBoostRegressor</td>\n",
       "      <td>17.35</td>\n",
       "      <td>-0.16</td>\n",
       "    </tr>\n",
       "    <tr>\n",
       "      <th>5</th>\n",
       "      <td>lightgbm</td>\n",
       "      <td>17.87</td>\n",
       "      <td>-0.24</td>\n",
       "    </tr>\n",
       "    <tr>\n",
       "      <th>3</th>\n",
       "      <td>xgboost</td>\n",
       "      <td>18.40</td>\n",
       "      <td>-0.31</td>\n",
       "    </tr>\n",
       "  </tbody>\n",
       "</table>\n",
       "</div>"
      ],
      "text/plain": [
       "                   Model   RMSE    R2\n",
       "1                  Lasso  16.17 -0.01\n",
       "2  RandomForestRegressor  16.60 -0.06\n",
       "0       LinearRegression  16.93 -0.11\n",
       "4      CatBoostRegressor  17.35 -0.16\n",
       "5               lightgbm  17.87 -0.24\n",
       "3                xgboost  18.40 -0.31"
      ]
     },
     "execution_count": 11,
     "metadata": {},
     "output_type": "execute_result"
    }
   ],
   "source": [
    "models = {\n",
    "    \"LinearRegression\": LinearRegression(),\n",
    "    \"Lasso\": Lasso(),\n",
    "    \"RandomForestRegressor\": RandomForestRegressor(n_estimators=150, verbose=0, random_state=7),\n",
    "    \"xgboost\": xgb.XGBRegressor(n_estimators=150, random_state=7, verbosity=0),\n",
    "    \"CatBoostRegressor\": CatBoostRegressor(n_estimators=150, verbose=0, random_state=7),\n",
    "    \"lightgbm\": lgb.LGBMRegressor(n_estimators=150, random_state=7)\n",
    "}\n",
    "\n",
    "results = []\n",
    "for name, model in models.items():\n",
    "    clf = Pipeline([\n",
    "        (\"preprocessor\", preprocessor),\n",
    "        (\"model\", model)])\n",
    "    \n",
    "    rmse = cross_val_score(clf, X_train, y_train, cv=6, scoring='neg_root_mean_squared_error', n_jobs=-1)\n",
    "    r2 = cross_val_score(clf, X_train, y_train, cv=6, scoring='r2', n_jobs=-1)\n",
    "    \n",
    "    results.append({\n",
    "        \"Model\": name,\n",
    "        \"RMSE\": -rmse.mean().round(2),\n",
    "        \"R2\": r2.mean().round(2)\n",
    "    })\n",
    "    \n",
    "    print(f\"{name}: RMSE = {-rmse.mean():.4f}, R² = {r2.mean():.4f}\")\n",
    "\n",
    "ranks = pd.DataFrame(results)\n",
    "ranks.sort_values(by='RMSE', ascending=True)"
   ]
  },
  {
   "cell_type": "markdown",
   "id": "3a0fb8b8",
   "metadata": {},
   "source": [
    "> *As we can see our R2 score is worse than mean*\n",
    "- we will use another dataset_with_additional_features with strong predective features, previous lacked predictive power."
   ]
  },
  {
   "cell_type": "markdown",
   "id": "2301de17",
   "metadata": {},
   "source": [
    "# 6. Model 2.0"
   ]
  },
  {
   "cell_type": "markdown",
   "id": "b89c83ea",
   "metadata": {},
   "source": [
    "## Data Ingestion\n",
    "- ingestion data with strong additional collected features"
   ]
  },
  {
   "cell_type": "code",
   "execution_count": 12,
   "id": "84ae6139",
   "metadata": {},
   "outputs": [],
   "source": [
    "df_extra = pd.read_csv(\"..\\data\\processed\\Waste_Management_with_Extra_Features.csv\")\n",
    "df_extra.drop(columns=['year', 'landfill_name', 'landfill_location_(lat,_long)'], inplace=True, errors='ignore')"
   ]
  },
  {
   "cell_type": "markdown",
   "id": "35fe151a",
   "metadata": {},
   "source": [
    "## 6.1 Defining Features & Target + Train_Test_Split"
   ]
  },
  {
   "cell_type": "code",
   "execution_count": 13,
   "id": "be8898f4",
   "metadata": {},
   "outputs": [],
   "source": [
    "X_new = df_extra.drop(columns=['recycling_rate_(%)'])\n",
    "y_new = df_extra['recycling_rate_(%)']\n",
    "\n",
    "X_train, X_test, y_train, y_test = train_test_split(X_new, y_new, test_size=0.2, random_state=7)"
   ]
  },
  {
   "cell_type": "markdown",
   "id": "001f2711",
   "metadata": {},
   "source": [
    "## 6.2 Preprocessing Pipelines"
   ]
  },
  {
   "cell_type": "code",
   "execution_count": 14,
   "id": "c26d3e71",
   "metadata": {},
   "outputs": [],
   "source": [
    "numeric_cols = X_new.select_dtypes(include=['int64', 'float64']).columns.to_list()\n",
    "categorical_cols = X_new.select_dtypes(include=['object']).columns.to_list()\n",
    "\n",
    "numeric_scaler = Pipeline(steps=[\n",
    "    ('scaler', StandardScaler())\n",
    "])\n",
    "categorical_encoder = Pipeline(steps=[\n",
    "    ('encoder', OneHotEncoder(handle_unknown='ignore'))\n",
    "])\n",
    "\n",
    "preprocessor = ColumnTransformer([\n",
    "    ('num', numeric_scaler, numeric_cols),\n",
    "    ('cat', categorical_encoder, categorical_cols)\n",
    "])"
   ]
  },
  {
   "cell_type": "markdown",
   "id": "e2ae5347",
   "metadata": {},
   "source": [
    "## 6.3 Cross_val_check\n",
    "- Quick screen using cross_val_score of various algorithm to find overall best performing."
   ]
  },
  {
   "cell_type": "code",
   "execution_count": 15,
   "id": "b80d81b6",
   "metadata": {},
   "outputs": [
    {
     "name": "stdout",
     "output_type": "stream",
     "text": [
      "LinearRegression: RMSE = 1.7347, R² = 0.9884\n",
      "Lasso: RMSE = 1.9505, R² = 0.9853\n",
      "RandomForestRegressor: RMSE = 1.8504, R² = 0.9868\n",
      "xgboost: RMSE = 1.9675, R² = 0.9850\n",
      "CatBoostRegressor: RMSE = 2.0167, R² = 0.9842\n",
      "lightgbm: RMSE = 1.8545, R² = 0.9867\n"
     ]
    },
    {
     "data": {
      "application/vnd.microsoft.datawrangler.viewer.v0+json": {
       "columns": [
        {
         "name": "index",
         "rawType": "int64",
         "type": "integer"
        },
        {
         "name": "Model",
         "rawType": "object",
         "type": "string"
        },
        {
         "name": "RMSE",
         "rawType": "float64",
         "type": "float"
        },
        {
         "name": "R2",
         "rawType": "float64",
         "type": "float"
        }
       ],
       "ref": "064fa04c-b4e8-4b40-8515-357f6eb4d74e",
       "rows": [
        [
         "0",
         "LinearRegression",
         "1.73",
         "0.99"
        ],
        [
         "2",
         "RandomForestRegressor",
         "1.85",
         "0.99"
        ],
        [
         "5",
         "lightgbm",
         "1.85",
         "0.99"
        ],
        [
         "1",
         "Lasso",
         "1.95",
         "0.99"
        ],
        [
         "3",
         "xgboost",
         "1.97",
         "0.99"
        ],
        [
         "4",
         "CatBoostRegressor",
         "2.02",
         "0.98"
        ]
       ],
       "shape": {
        "columns": 3,
        "rows": 6
       }
      },
      "text/html": [
       "<div>\n",
       "<style scoped>\n",
       "    .dataframe tbody tr th:only-of-type {\n",
       "        vertical-align: middle;\n",
       "    }\n",
       "\n",
       "    .dataframe tbody tr th {\n",
       "        vertical-align: top;\n",
       "    }\n",
       "\n",
       "    .dataframe thead th {\n",
       "        text-align: right;\n",
       "    }\n",
       "</style>\n",
       "<table border=\"1\" class=\"dataframe\">\n",
       "  <thead>\n",
       "    <tr style=\"text-align: right;\">\n",
       "      <th></th>\n",
       "      <th>Model</th>\n",
       "      <th>RMSE</th>\n",
       "      <th>R2</th>\n",
       "    </tr>\n",
       "  </thead>\n",
       "  <tbody>\n",
       "    <tr>\n",
       "      <th>0</th>\n",
       "      <td>LinearRegression</td>\n",
       "      <td>1.73</td>\n",
       "      <td>0.99</td>\n",
       "    </tr>\n",
       "    <tr>\n",
       "      <th>2</th>\n",
       "      <td>RandomForestRegressor</td>\n",
       "      <td>1.85</td>\n",
       "      <td>0.99</td>\n",
       "    </tr>\n",
       "    <tr>\n",
       "      <th>5</th>\n",
       "      <td>lightgbm</td>\n",
       "      <td>1.85</td>\n",
       "      <td>0.99</td>\n",
       "    </tr>\n",
       "    <tr>\n",
       "      <th>1</th>\n",
       "      <td>Lasso</td>\n",
       "      <td>1.95</td>\n",
       "      <td>0.99</td>\n",
       "    </tr>\n",
       "    <tr>\n",
       "      <th>3</th>\n",
       "      <td>xgboost</td>\n",
       "      <td>1.97</td>\n",
       "      <td>0.99</td>\n",
       "    </tr>\n",
       "    <tr>\n",
       "      <th>4</th>\n",
       "      <td>CatBoostRegressor</td>\n",
       "      <td>2.02</td>\n",
       "      <td>0.98</td>\n",
       "    </tr>\n",
       "  </tbody>\n",
       "</table>\n",
       "</div>"
      ],
      "text/plain": [
       "                   Model  RMSE    R2\n",
       "0       LinearRegression  1.73  0.99\n",
       "2  RandomForestRegressor  1.85  0.99\n",
       "5               lightgbm  1.85  0.99\n",
       "1                  Lasso  1.95  0.99\n",
       "3                xgboost  1.97  0.99\n",
       "4      CatBoostRegressor  2.02  0.98"
      ]
     },
     "execution_count": 15,
     "metadata": {},
     "output_type": "execute_result"
    }
   ],
   "source": [
    "models = {\n",
    "    \"LinearRegression\": LinearRegression(),\n",
    "    \"Lasso\": Lasso(),\n",
    "    \"RandomForestRegressor\": RandomForestRegressor(n_estimators=150, verbose=0, random_state=7),\n",
    "    \"xgboost\": xgb.XGBRegressor(n_estimators=150, random_state=7, verbosity=0),\n",
    "    \"CatBoostRegressor\": CatBoostRegressor(n_estimators=150, verbose=0, random_state=7),\n",
    "    \"lightgbm\": lgb.LGBMRegressor(n_estimators=150, random_state=7)\n",
    "}\n",
    "\n",
    "results = []\n",
    "for name, model in models.items():\n",
    "    clf = Pipeline([\n",
    "        (\"preprocessor\", preprocessor),\n",
    "        (\"model\", model)])\n",
    "    \n",
    "    rmse = cross_val_score(clf, X_train, y_train, cv=6, scoring='neg_root_mean_squared_error', n_jobs=-1)\n",
    "    r2 = cross_val_score(clf, X_train, y_train, cv=6, scoring='r2', n_jobs=-1)\n",
    "    \n",
    "    results.append({\n",
    "        \"Model\": name,\n",
    "        \"RMSE\": -rmse.mean().round(2),\n",
    "        \"R2\": r2.mean().round(2)\n",
    "    })\n",
    "    \n",
    "    print(f\"{name}: RMSE = {-rmse.mean():.4f}, R² = {r2.mean():.4f}\")\n",
    "\n",
    "ranks = pd.DataFrame(results)\n",
    "ranks.sort_values(by='RMSE', ascending=True)"
   ]
  },
  {
   "cell_type": "markdown",
   "id": "d0b77491",
   "metadata": {},
   "source": [
    "# 7. Hyper-Parameter Tuning"
   ]
  },
  {
   "cell_type": "code",
   "execution_count": 24,
   "id": "ced05960",
   "metadata": {},
   "outputs": [],
   "source": [
    "ridge_reg = Ridge(random_state=7)\n",
    "\n",
    "from sklearn.feature_selection import SelectKBest, f_regression\n",
    "\n",
    "pipe_tune = Pipeline([\n",
    "    (\"preprocessor\", preprocessor),\n",
    "    (\"select_features\", SelectKBest(score_func=f_regression, k=4)),  # Select exactly top 4 features\n",
    "    (\"model\", ridge_reg)\n",
    "])\n",
    "\n",
    "\n",
    "params = {\n",
    "    \"model__alpha\": np.logspace(-4, 4, 20), \n",
    "    \"model__fit_intercept\": [True],  \n",
    "    \"model__solver\": ['auto', 'sparse_cg', 'lsqr']\n",
    "}\n",
    "\n",
    "cv = KFold(n_splits=6, random_state=7, shuffle=True)\n",
    "grid = RandomizedSearchCV(\n",
    "    pipe_tune, \n",
    "    param_distributions=params, \n",
    "    n_iter=20, \n",
    "    cv=cv, \n",
    "    scoring=\"neg_root_mean_squared_error\", \n",
    "    n_jobs=-1, \n",
    "    random_state=7,\n",
    "    error_score='raise'\n",
    ")"
   ]
  },
  {
   "cell_type": "code",
   "execution_count": 25,
   "id": "2722c678",
   "metadata": {},
   "outputs": [
    {
     "name": "stdout",
     "output_type": "stream",
     "text": [
      "Best params: {'model__solver': 'lsqr', 'model__fit_intercept': True, 'model__alpha': np.float64(1.623776739188721)}, Best RMSE: 1.6765\n"
     ]
    }
   ],
   "source": [
    "try:\n",
    "    grid.fit(X_train, y_train)\n",
    "    print(f\"Best params: {grid.best_params_}, Best RMSE: {-grid.best_score_:.4f}\")\n",
    "except Exception as e:\n",
    "    print(\"GridSearch error:\", e)\n",
    "    print(\"X NaN:\", X_train.isna().any().any(), \"| y NaN:\", pd.isna(y_train).any())"
   ]
  },
  {
   "cell_type": "markdown",
   "id": "764094fa",
   "metadata": {},
   "source": [
    "## 7.1  Grid Model Train and Evaluate"
   ]
  },
  {
   "cell_type": "code",
   "execution_count": 26,
   "id": "114af2a6",
   "metadata": {},
   "outputs": [
    {
     "name": "stdout",
     "output_type": "stream",
     "text": [
      "Train RMSE: 1.6608, R²: 0.9894\n",
      "Test RMSE: 1.4717, R²: 0.9915\n",
      "Generalization Gap (RMSE): -0.18900869498826167\n"
     ]
    }
   ],
   "source": [
    "model = grid.best_estimator_\n",
    "for name, (X, y) in {\"Train\": (X_train, y_train), \"Test\": (X_test, y_test)}.items():\n",
    "    pred = model.predict(X)\n",
    "    print(f\"{name} RMSE: {np.sqrt(mean_squared_error(y, pred)):.4f}, R²: {r2_score(y, pred):.4f}\")\n",
    "\n",
    "print(\"Generalization Gap (RMSE):\",\n",
    "      np.sqrt(mean_squared_error(y_test, model.predict(X_test))) -\n",
    "      np.sqrt(mean_squared_error(y_train, model.predict(X_train))))\n"
   ]
  },
  {
   "cell_type": "markdown",
   "id": "50ef1618",
   "metadata": {},
   "source": [
    "# 8. Feature Evaluation"
   ]
  },
  {
   "cell_type": "code",
   "execution_count": 27,
   "id": "ce240c41",
   "metadata": {},
   "outputs": [
    {
     "data": {
      "image/png": "[encoded data removed]",
      "text/plain": [
       "<Figure size 800x310 with 2 Axes>"
      ]
     },
     "metadata": {},
     "output_type": "display_data"
    },
    {
     "name": "stdout",
     "output_type": "stream",
     "text": [
      "\n",
      "Selected Top 4 Features:\n",
      "1. num__green_technology_adoption\n",
      "2. num__recycling_infrastructure_rating\n",
      "3. cat__city/district_Amritsar\n",
      "4. cat__city/district_Indore\n",
      "\n",
      "Feature Selection Scores (Top 10):\n",
      "                                   Feature         Score\n",
      "10    num__recycling_infrastructure_rating  42017.114657\n",
      "9           num__green_technology_adoption  20751.862000\n",
      "23               cat__city/district_Indore      7.001706\n",
      "14             cat__city/district_Amritsar      4.568116\n",
      "0          num__waste_generated_(tons/day)      0.000000\n",
      "2   num__municipal_efficiency_score_(1_10)      0.000000\n",
      "5            num__landfill_capacity_(tons)      0.000000\n",
      "4           num__awareness_campaigns_count      0.000000\n",
      "3    num__cost_of_waste_management_(₹/ton)      0.000000\n",
      "7          num__industrial_symbiosis_index      0.000000\n"
     ]
    }
   ],
   "source": [
    "# Get the feature selector and the reduced feature names\n",
    "pre = model.named_steps['preprocessor']\n",
    "selector = model.named_steps['select_features']\n",
    "ridge_model = model.named_steps['model']\n",
    "\n",
    "# Transform data through preprocessing\n",
    "X_train_pre = pre.transform(X_train)\n",
    "feature_names_all = pre.get_feature_names_out()\n",
    "\n",
    "# Apply feature selection to get selected features\n",
    "X_train_sel = selector.transform(X_train_pre)\n",
    "selected_indices = selector.get_support()\n",
    "selected_feature_names = feature_names_all[selected_indices]\n",
    "\n",
    "# SHAP for linear model with selected features\n",
    "explainer = shap.Explainer(ridge_model, X_train_sel, feature_names=selected_feature_names)\n",
    "shap_values = explainer(X_train_sel)\n",
    "\n",
    "# Plot SHAP summary\n",
    "shap.summary_plot(shap_values, X_train_sel, feature_names=selected_feature_names)\n",
    "\n",
    "# Display selected features for reference\n",
    "print(\"\\nSelected Top 4 Features:\")\n",
    "for i, feature in enumerate(selected_feature_names):\n",
    "    print(f\"{i+1}. {feature}\")\n",
    "\n",
    "# Display feature scores\n",
    "feature_scores = pd.DataFrame({\n",
    "    'Feature': feature_names_all,\n",
    "    'Score': np.zeros(len(feature_names_all))\n",
    "})\n",
    "feature_scores.loc[selected_indices, 'Score'] = selector.scores_[selected_indices]\n",
    "print(\"\\nFeature Selection Scores (Top 10):\")\n",
    "print(feature_scores.sort_values('Score', ascending=False).head(10))"
   ]
  },
  {
   "cell_type": "markdown",
   "id": "9042745b",
   "metadata": {},
   "source": [
    "# 9. Exporting The Model"
   ]
  },
  {
   "cell_type": "code",
   "execution_count": 31,
   "id": "7f631c0f",
   "metadata": {},
   "outputs": [
    {
     "data": {
      "text/plain": [
       "['../models/waste_mgmt.joblib']"
      ]
     },
     "execution_count": 31,
     "metadata": {},
     "output_type": "execute_result"
    }
   ],
   "source": [
    "import joblib\n",
    "\n",
    "joblib.dump(model, \"../models/waste_mgmt.joblib\")"
   ]
  },
  {
   "cell_type": "code",
   "execution_count": null,
   "id": "fd3be389",
   "metadata": {},
   "outputs": [
    {
     "name": "stdout",
     "output_type": "stream",
     "text": [
      "Predicted recycling rate: 76.52%\n",
      "Actual recycling rate: 77.00%\n",
      "\n",
      "All features in dataset: 14\n",
      "Features selected by model: 4\n"
     ]
    }
   ],
   "source": [
    "import joblib\n",
    "import pandas as pd\n",
    "\n",
    "pipeline = joblib.load(\"../models/waste_mgmt.joblib\")\n",
    "\n",
    "# Use X_new to create a single test sample with all required columns\n",
    "sample = X_new.iloc[[13]].copy()  # Copy one row from our dataset\n",
    "\n",
    "# Make prediction\n",
    "prediction = pipeline.predict(sample)\n",
    "print(f\"Predicted recycling rate: {prediction[0]:.2f}%\")\n",
    "print(f\"Actual recycling rate: {y_new.iloc[13]:.2f}%\")\n",
    "\n",
    "# Print features used by model\n",
    "print(\"\\nAll features in dataset:\", X_new.shape[1])\n",
    "print(\"Features selected by model:\", len(pipeline.named_steps['select_features'].get_support(indices=True)))"
   ]
  },
  {
   "cell_type": "code",
   "execution_count": 44,
   "id": "8e8670be",
   "metadata": {},
   "outputs": [
    {
     "data": {
      "application/vnd.microsoft.datawrangler.viewer.v0+json": {
       "columns": [
        {
         "name": "index",
         "rawType": "int64",
         "type": "integer"
        },
        {
         "name": "city/district",
         "rawType": "object",
         "type": "string"
        },
        {
         "name": "waste_type",
         "rawType": "object",
         "type": "string"
        },
        {
         "name": "waste_generated_(tons/day)",
         "rawType": "int64",
         "type": "integer"
        },
        {
         "name": "population_density_(people/km²)",
         "rawType": "int64",
         "type": "integer"
        },
        {
         "name": "municipal_efficiency_score_(1_10)",
         "rawType": "int64",
         "type": "integer"
        },
        {
         "name": "disposal_method",
         "rawType": "object",
         "type": "string"
        },
        {
         "name": "cost_of_waste_management_(₹/ton)",
         "rawType": "int64",
         "type": "integer"
        },
        {
         "name": "awareness_campaigns_count",
         "rawType": "int64",
         "type": "integer"
        },
        {
         "name": "landfill_capacity_(tons)",
         "rawType": "int64",
         "type": "integer"
        },
        {
         "name": "waste_reduction_initiatives",
         "rawType": "float64",
         "type": "float"
        },
        {
         "name": "industrial_symbiosis_index",
         "rawType": "float64",
         "type": "float"
        },
        {
         "name": "community_participation_score",
         "rawType": "float64",
         "type": "float"
        },
        {
         "name": "green_technology_adoption",
         "rawType": "float64",
         "type": "float"
        },
        {
         "name": "recycling_infrastructure_rating",
         "rawType": "float64",
         "type": "float"
        }
       ],
       "ref": "dd5fc085-3d4a-4e04-b191-bd3c1fca591f",
       "rows": [
        [
         "13",
         "Mumbai",
         "Construction",
         "3514",
         "11191",
         "9",
         "Incineration",
         "3520",
         "0",
         "45575",
         "1.967126735925898",
         "8.714840628452343",
         "1.90125569688588",
         "7.5604268271414865",
         "77.35550021253606"
        ]
       ],
       "shape": {
        "columns": 14,
        "rows": 1
       }
      },
      "text/html": [
       "<div>\n",
       "<style scoped>\n",
       "    .dataframe tbody tr th:only-of-type {\n",
       "        vertical-align: middle;\n",
       "    }\n",
       "\n",
       "    .dataframe tbody tr th {\n",
       "        vertical-align: top;\n",
       "    }\n",
       "\n",
       "    .dataframe thead th {\n",
       "        text-align: right;\n",
       "    }\n",
       "</style>\n",
       "<table border=\"1\" class=\"dataframe\">\n",
       "  <thead>\n",
       "    <tr style=\"text-align: right;\">\n",
       "      <th></th>\n",
       "      <th>city/district</th>\n",
       "      <th>waste_type</th>\n",
       "      <th>waste_generated_(tons/day)</th>\n",
       "      <th>population_density_(people/km²)</th>\n",
       "      <th>municipal_efficiency_score_(1_10)</th>\n",
       "      <th>disposal_method</th>\n",
       "      <th>cost_of_waste_management_(₹/ton)</th>\n",
       "      <th>awareness_campaigns_count</th>\n",
       "      <th>landfill_capacity_(tons)</th>\n",
       "      <th>waste_reduction_initiatives</th>\n",
       "      <th>industrial_symbiosis_index</th>\n",
       "      <th>community_participation_score</th>\n",
       "      <th>green_technology_adoption</th>\n",
       "      <th>recycling_infrastructure_rating</th>\n",
       "    </tr>\n",
       "  </thead>\n",
       "  <tbody>\n",
       "    <tr>\n",
       "      <th>13</th>\n",
       "      <td>Mumbai</td>\n",
       "      <td>Construction</td>\n",
       "      <td>3514</td>\n",
       "      <td>11191</td>\n",
       "      <td>9</td>\n",
       "      <td>Incineration</td>\n",
       "      <td>3520</td>\n",
       "      <td>0</td>\n",
       "      <td>45575</td>\n",
       "      <td>1.967127</td>\n",
       "      <td>8.714841</td>\n",
       "      <td>1.901256</td>\n",
       "      <td>7.560427</td>\n",
       "      <td>77.3555</td>\n",
       "    </tr>\n",
       "  </tbody>\n",
       "</table>\n",
       "</div>"
      ],
      "text/plain": [
       "   city/district    waste_type  waste_generated_(tons/day)  \\\n",
       "13        Mumbai  Construction                        3514   \n",
       "\n",
       "    population_density_(people/km²)  municipal_efficiency_score_(1_10)  \\\n",
       "13                            11191                                  9   \n",
       "\n",
       "   disposal_method  cost_of_waste_management_(₹/ton)  \\\n",
       "13    Incineration                              3520   \n",
       "\n",
       "    awareness_campaigns_count  landfill_capacity_(tons)  \\\n",
       "13                          0                     45575   \n",
       "\n",
       "    waste_reduction_initiatives  industrial_symbiosis_index  \\\n",
       "13                     1.967127                    8.714841   \n",
       "\n",
       "    community_participation_score  green_technology_adoption  \\\n",
       "13                       1.901256                   7.560427   \n",
       "\n",
       "    recycling_infrastructure_rating  \n",
       "13                          77.3555  "
      ]
     },
     "execution_count": 44,
     "metadata": {},
     "output_type": "execute_result"
    }
   ],
   "source": [
    "sample"
   ]
  },
  {
   "cell_type": "markdown",
   "id": "5ac3e778",
   "metadata": {},
   "source": [
    "# 10. Focused Model with Only Important Features\n",
    "\n",
    "Now that we've identified the most important features, we can train a more focused model using just those features. This can improve:\n",
    "- Model interpretability\n",
    "- Training speed\n",
    "- Potentially reduce overfitting\n",
    "- Make deployment simpler"
   ]
  },
  {
   "cell_type": "code",
   "execution_count": 49,
   "id": "08ea8343",
   "metadata": {},
   "outputs": [
    {
     "name": "stdout",
     "output_type": "stream",
     "text": [
      "Train RMSE: 1.6608, R²: 0.9894\n",
      "Test RMSE: 1.4717, R²: 0.9915\n"
     ]
    },
    {
     "data": {
      "text/plain": [
       "['../models/waste_mgmt_focused.joblib']"
      ]
     },
     "execution_count": 49,
     "metadata": {},
     "output_type": "execute_result"
    }
   ],
   "source": [
    "# Define specific features to keep\n",
    "specific_features = [\n",
    "    'city/district',\n",
    "    'recycling_infrastructure_rating',\n",
    "    'green_technology_adoption'\n",
    "]\n",
    "\n",
    "# Create focused datasets with specified features\n",
    "X_train_focused = X_train[specific_features].copy()\n",
    "X_test_focused = X_test[specific_features].copy()\n",
    "\n",
    "# Create focused preprocessing pipeline\n",
    "focused_preprocessor = ColumnTransformer([\n",
    "    ('num', StandardScaler(), ['recycling_infrastructure_rating', 'green_technology_adoption']),\n",
    "    ('cat', OneHotEncoder(handle_unknown='ignore'), ['city/district'])\n",
    "])\n",
    "\n",
    "# Create pipeline with SelectKBest = 4\n",
    "focused_pipeline = Pipeline([\n",
    "    (\"preprocessor\", focused_preprocessor),\n",
    "    (\"select_features\", SelectKBest(score_func=f_regression, k=4)),\n",
    "    (\"model\", Ridge(alpha=grid.best_params_['model__alpha'], random_state=7))\n",
    "])\n",
    "\n",
    "# Train focused model\n",
    "focused_pipeline.fit(X_train_focused, y_train)\n",
    "\n",
    "# Evaluate model\n",
    "for name, (X, y) in {\"Train\": (X_train_focused, y_train), \"Test\": (X_test_focused, y_test)}.items():\n",
    "    pred = focused_pipeline.predict(X)\n",
    "    print(f\"{name} RMSE: {np.sqrt(mean_squared_error(y, pred)):.4f}, R²: {r2_score(y, pred):.4f}\")\n",
    "\n",
    "# Save focused model\n",
    "joblib.dump(focused_pipeline, \"../models/waste_mgmt_focused.joblib\")"
   ]
  },
  {
   "cell_type": "code",
   "execution_count": 50,
   "id": "a3b366cf",
   "metadata": {},
   "outputs": [
    {
     "name": "stdout",
     "output_type": "stream",
     "text": [
      "Focused model prediction: 76.52%\n",
      "Actual recycling rate: 77.00%\n"
     ]
    }
   ],
   "source": [
    "# Test focused model with a sample\n",
    "focused_model = joblib.load(\"../models/waste_mgmt_focused.joblib\")\n",
    "sample_focused = X_new.loc[[13], specific_features].copy()\n",
    "prediction = focused_model.predict(sample_focused)\n",
    "print(f\"Focused model prediction: {prediction[0]:.2f}%\")\n",
    "print(f\"Actual recycling rate: {y_new.iloc[13]:.2f}%\")"
   ]
  }
 ],
 "metadata": {
  "kernelspec": {
   "display_name": "mlenv",
   "language": "python",
   "name": "python3"
  },
  "language_info": {
   "codemirror_mode": {
    "name": "ipython",
    "version": 3
   },
   "file_extension": ".py",
   "mimetype": "text/x-python",
   "name": "python",
   "nbconvert_exporter": "python",
   "pygments_lexer": "ipython3",
   "version": "3.10.18"
  }
 },
 "nbformat": 4,
 "nbformat_minor": 5
}
